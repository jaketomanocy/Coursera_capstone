{
    "nbformat_minor": 1, 
    "cells": [
        {
            "execution_count": 1, 
            "cell_type": "code", 
            "metadata": {}, 
            "outputs": [
                {
                    "output_type": "stream", 
                    "name": "stdout", 
                    "text": "Opportunity for Food in Toronto\nBy Jake Tomanocy\n\tThe City of Toronto is home to over 2.93 million people there are just under 6 million people in the Greater Toronto area. A city with that many mouths to feed breeds opportunity for restaurant owners and prospective restaurant owners to capitalize on. At the city level Toronto\u2019s population density is 11,226 residents per square mile and the Greater Toronto are has an average 2,814 residents per square mile. \n\tThis density in population leads to opportunity for investors and new business owners who can capitalize on the population. We chose to look at population density, average income and locations of restaurants in each neighborhood in Toronto. Hoping to find a correlation with the data or to find some information that can be useful. \n\tTo visualize the data that we obtained, we used maps to display the key information that we wanted to understand. We could easily look at the population density, average income, and number of restaurants in each neighborhood. This led us to come up with some very interesting discoveries with the data.\nBy looking and comparing the maps we can see most of the restaurants are grouped on main street and the south side of the city. Even though some of the wealthiest neighborhoods are up to the north. With this information it can also be inferred that the areas with a dense population don\u2019t reflect a high number of restaurants. These results did not match our initial thoughts on the study, as we thought that income and population density would lead to a correlation.\n\n"
                }
            ], 
            "source": "print(\"\"\"Opportunity for Food in Toronto\nBy Jake Tomanocy\n\tThe City of Toronto is home to over 2.93 million people there are just under 6 million people in the Greater Toronto area. A city with that many mouths to feed breeds opportunity for restaurant owners and prospective restaurant owners to capitalize on. At the city level Toronto\u2019s population density is 11,226 residents per square mile and the Greater Toronto are has an average 2,814 residents per square mile. \n\tThis density in population leads to opportunity for investors and new business owners who can capitalize on the population. We chose to look at population density, average income and locations of restaurants in each neighborhood in Toronto. Hoping to find a correlation with the data or to find some information that can be useful. \n\tTo visualize the data that we obtained, we used maps to display the key information that we wanted to understand. We could easily look at the population density, average income, and number of restaurants in each neighborhood. This led us to come up with some very interesting discoveries with the data.\nBy looking and comparing the maps we can see most of the restaurants are grouped on main street and the south side of the city. Even though some of the wealthiest neighborhoods are up to the north. With this information it can also be inferred that the areas with a dense population don\u2019t reflect a high number of restaurants. These results did not match our initial thoughts on the study, as we thought that income and population density would lead to a correlation.\n\"\"\")"
        }, 
        {
            "execution_count": null, 
            "cell_type": "code", 
            "metadata": {}, 
            "outputs": [], 
            "source": ""
        }
    ], 
    "metadata": {
        "kernelspec": {
            "display_name": "Python 3.6", 
            "name": "python3", 
            "language": "python"
        }, 
        "language_info": {
            "mimetype": "text/x-python", 
            "nbconvert_exporter": "python", 
            "version": "3.6.8", 
            "name": "python", 
            "file_extension": ".py", 
            "pygments_lexer": "ipython3", 
            "codemirror_mode": {
                "version": 3, 
                "name": "ipython"
            }
        }
    }, 
    "nbformat": 4
}