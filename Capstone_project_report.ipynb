{
    "nbformat_minor": 1, 
    "cells": [
        {
            "execution_count": 10, 
            "cell_type": "code", 
            "metadata": {}, 
            "outputs": [
                {
                    "output_type": "stream", 
                    "name": "stdout", 
                    "text": "Jake Tomanocy\nCapstone Project \nBattle of the Neighborhoods Week 2\nIntroduction.\nThe problem we were trying to solve in this study was \u201cWhere should you open a new restaurant in the city of Toronto?\u201d. We used data regarding the income of each neighborhood as well as overall population. Using the notebook, we could then compare the information from each neighborhood to understand where a new restaurant should be opened.\nData.\nFor our data, we will be using Toronto\u2019s 2016 census that contains Population and Average income per neighborhood. This will help us in providing answers to the question of where you should open a new restaurant in Toronto. The links are below.\nhttps://www.toronto.ca/city-government/data-research-maps/open-data/open-data-catalogue/#8c732154-5012-9afe-d0cd-ba3ffc813d5a\nhttps://www.toronto.ca/city-government/data-research-maps/open-data/open-data-catalogue/#a45bd45a-ede8-730e-1abc-93105b2c439f\nMethodology.\nTo help visually aid anyone who might want to look at the data, I used a map that highlights the wealthier and more populated neighborhoods of Toronto. This map can be used by investors, entrepreneurs, business owners, or companies that might want to know this information.\nResults.\nBy looking and comparing the maps we can see most of the restaurants are grouped on main street and the south side of the city. Even though some of the wealthiest neighborhoods are up to the north. With this information it can also be inferred that the areas with a dense population don\u2019t reflect a high number of restaurants. \nDiscussion.\nBefore this study was conducted, I believed that population and wealth would ultimately reflect concentrations of restaurants. Based on the results, we can see that there was in fact no correlation.\nConclusion.\nThis report could be helpful for those who want to know the concentrations of population in Toronto or the distribution of wealth about the neighborhoods. It could hold some promising data for those looking to open a new restaurant. There are also many more variables to consider when talking about opening a new restaurant. \n\n"
                }
            ], 
            "source": "print(\"\"\"Jake Tomanocy\nCapstone Project \nBattle of the Neighborhoods Week 2\nIntroduction.\nThe problem we were trying to solve in this study was \u201cWhere should you open a new restaurant in the city of Toronto?\u201d. We used data regarding the income of each neighborhood as well as overall population. Using the notebook, we could then compare the information from each neighborhood to understand where a new restaurant should be opened.\nData.\nFor our data, we will be using Toronto\u2019s 2016 census that contains Population and Average income per neighborhood. This will help us in providing answers to the question of where you should open a new restaurant in Toronto. The links are below.\nhttps://www.toronto.ca/city-government/data-research-maps/open-data/open-data-catalogue/#8c732154-5012-9afe-d0cd-ba3ffc813d5a\nhttps://www.toronto.ca/city-government/data-research-maps/open-data/open-data-catalogue/#a45bd45a-ede8-730e-1abc-93105b2c439f\nMethodology.\nTo help visually aid anyone who might want to look at the data, I used a map that highlights the wealthier and more populated neighborhoods of Toronto. This map can be used by investors, entrepreneurs, business owners, or companies that might want to know this information.\nResults.\nBy looking and comparing the maps we can see most of the restaurants are grouped on main street and the south side of the city. Even though some of the wealthiest neighborhoods are up to the north. With this information it can also be inferred that the areas with a dense population don\u2019t reflect a high number of restaurants. \nDiscussion.\nBefore this study was conducted, I believed that population and wealth would ultimately reflect concentrations of restaurants. Based on the results, we can see that there was in fact no correlation.\nConclusion.\nThis report could be helpful for those who want to know the concentrations of population in Toronto or the distribution of wealth about the neighborhoods. It could hold some promising data for those looking to open a new restaurant. There are also many more variables to consider when talking about opening a new restaurant. \n\"\"\")"
        }, 
        {
            "execution_count": null, 
            "cell_type": "code", 
            "metadata": {}, 
            "outputs": [], 
            "source": ""
        }
    ], 
    "metadata": {
        "kernelspec": {
            "display_name": "Python 3.6", 
            "name": "python3", 
            "language": "python"
        }, 
        "language_info": {
            "mimetype": "text/x-python", 
            "nbconvert_exporter": "python", 
            "version": "3.6.8", 
            "name": "python", 
            "file_extension": ".py", 
            "pygments_lexer": "ipython3", 
            "codemirror_mode": {
                "version": 3, 
                "name": "ipython"
            }
        }
    }, 
    "nbformat": 4
}