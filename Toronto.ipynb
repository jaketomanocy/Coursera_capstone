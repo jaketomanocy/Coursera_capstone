{
    "nbformat_minor": 1, 
    "cells": [
        {
            "execution_count": 2, 
            "cell_type": "code", 
            "metadata": {}, 
            "outputs": [
                {
                    "output_type": "stream", 
                    "name": "stdout", 
                    "text": "Introduction\nThis Capstone project is designed to aid anyone looking to open a new restaurant in the city of Toronto. We will use information about the income and population from other restaurants and each neighborhoods in the same regions\n"
                }
            ], 
            "source": "print('Introduction')\nprint('This Capstone project is designed to aid anyone looking to open a new restaurant in the city of Toronto. We will use information about the income and population from other restaurants and each neighborhoods in the same regions')"
        }, 
        {
            "execution_count": 4, 
            "cell_type": "code", 
            "metadata": {}, 
            "outputs": [
                {
                    "output_type": "stream", 
                    "name": "stdout", 
                    "text": "Data\nThis Capstone project will be usin data from a Toronto census that contains information with Foursquare API to compare.\n"
                }
            ], 
            "source": "print('Data')\nprint('This Capstone project will be usin data from a Toronto census that contains information with Foursquare API to compare.')"
        }, 
        {
            "execution_count": null, 
            "cell_type": "code", 
            "metadata": {}, 
            "outputs": [], 
            "source": ""
        }
    ], 
    "metadata": {
        "kernelspec": {
            "display_name": "Python 3.6", 
            "name": "python3", 
            "language": "python"
        }, 
        "language_info": {
            "mimetype": "text/x-python", 
            "nbconvert_exporter": "python", 
            "version": "3.6.8", 
            "name": "python", 
            "file_extension": ".py", 
            "pygments_lexer": "ipython3", 
            "codemirror_mode": {
                "version": 3, 
                "name": "ipython"
            }
        }
    }, 
    "nbformat": 4
}